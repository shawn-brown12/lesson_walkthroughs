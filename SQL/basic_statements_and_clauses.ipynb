{
 "cells": [
  {
   "cell_type": "markdown",
   "id": "2375e4ba-ae4b-4377-a33d-d376f1345464",
   "metadata": {},
   "source": [
    "## This workbook is for the basic statements and clauses section of my learning for MySQL\n",
    "\n",
    "Review Goals:\n",
    "\n",
    "- Understand how to read data with `SELECT` and `FROM`\n",
    "\n",
    "- Know how and when to use `DISTINCT` and aliases\n",
    "\n",
    "- How to use `WHERE`; Using `BETWEEN`, `LIKE`, `NOT LIKE`, `IN`, `IS NULL`, `IS NOT NULL`, as well as chaining `WHERE` clauses together\n",
    "\n",
    "- Understand what operators are and how to use them\n",
    "\n",
    "- Using `ORDER BY` clauses; Using `ASC` or `DESC` as well as chaining them together\n",
    "\n",
    "- Using the `LIMIT` clause, and the `OFFSET` clause with it"
   ]
  },
  {
   "cell_type": "markdown",
   "id": "c4883713-07f8-4943-beb7-e66f7e8d8b55",
   "metadata": {},
   "source": [
    "New acronym -- CRUD: Create, Read, Update, and Delete; The basic building block for working with data in just about any system. SQL qeuries are often called CRUD operations"
   ]
  },
  {
   "cell_type": "markdown",
   "id": "72be64b9-845e-4b8a-b6d2-a45fe2223384",
   "metadata": {},
   "source": [
    "- As stated in the last workbook, strings in SQL are generally enclosed in single quotes. Some versions of SQL allow use of double quotes, but for compatibility with other DBMS, use single quotes. If a single quote is needed within a string, you can escape it with (`\\'`), of you can use two single quotes in a row (`''`).\n",
    "\n",
    "- Annotating code, regardless of the language, is incredibly important. Not only will it really help someone else reading your code and trying to decipher what is going on, it will help you in the future going back and reading what you've written. In MySQL, there are a couple ways to introduce a comment within code. Both of these are good for a single line of code:\n",
    "\n",
    "    - `#`\n",
    "    \n",
    "    - `--`\n",
    "    \n",
    "- And this is for multiple lines1 of code and will continue until you end it:\n",
    "\n",
    "    - `/*` - Starts the comment\n",
    "    \n",
    "    - `*/` - Ends the comment\n",
    "    \n",
    "Another useful point to state; When using MySQL, a `;` signifies the end of a query. WHen writing queries to gather data or create a table, or to navigate through the database, whatever you're doing, you need to end each query with a `;`. If you don't you run the risk of an error happening, or the GUI will simply run the last query written. An example of this would be something like:\n",
    "\n",
    "```sql\n",
    "USE table_1\n",
    "\n",
    "SELECT *\n",
    "FROM table_1\n",
    "\n",
    "SELECT column1\n",
    "FROM table2\n",
    "```\n",
    "Without a `;`, when you run the GUI it will run all of that at once, and won't work properly."
   ]
  },
  {
   "cell_type": "markdown",
   "id": "3e620a9d-d468-4781-a96d-a6533fad13df",
   "metadata": {},
   "source": [
    "The `SELECT` statement is used in basically every query. It is used to find and return rows from a given column or columns in a table. It is quite versatile when put into use. A basic select statement might look something like this:\n",
    "```sql\n",
    "SELECT column1, column2\n",
    "FROM table_name;\n",
    "```\n",
    "Or:\n",
    "```sql\n",
    "USE fruits_db;\n",
    "\n",
    "SELECT * \n",
    "FROM fruits;\n",
    "```\n",
    "The output from this, and virtually any SQL query, will be formatted as tabular data, with the columns labeled by their names and each row containing one record."
   ]
  },
  {
   "cell_type": "markdown",
   "id": "e84c486a-6bac-4108-9078-de3f6b8182b8",
   "metadata": {},
   "source": [
    "If using `DISTINCT` with a `SELECT` statement, it will remove any duplicate values from the output. It would look something like so:\n",
    "\n",
    "```sql\n",
    "SELECT DISTINCT column_1\n",
    "FROM table_name;\n",
    "```\n",
    "Going by the above fruits_db example, if we wrote something like this:\n",
    "```sql\n",
    "SELECT DISTINCT name\n",
    "FROM fruits;\n",
    "```\n",
    "It would gives us a list of each unique fruit in the table."
   ]
  },
  {
   "cell_type": "markdown",
   "id": "0b6df1c8-a5b9-4cde-b03b-1b659877a3c5",
   "metadata": {},
   "source": [
    "Sometimes, on occasion, it might be useful to output some sort of arbitrary data from SQL scripts. It's also rather easy:\n",
    "\n",
    "```sql\n",
    "SELECT 'I am output';\n",
    "```\n",
    "This will output something similar to this:  \n",
    "|I am output|\n",
    "|:---------|\n",
    "|I am output|\n",
    "\n",
    "Not useful like this, but this is just an example."
   ]
  },
  {
   "cell_type": "markdown",
   "id": "e1d1e8e7-cacb-4220-9161-6a812c2668c3",
   "metadata": {},
   "source": [
    "Aliasing, though, is incredibly useful. It basically allows us to temporarily rename a column, table, or a miscellaneous piece of our query. If the alias name contains spaces, it must be enclosed in quotes, but otherwise quotes are n ot needed. It *okay* to use spaces in a column alias (but meh), but it's not best practice to use them in a table alias. A basic example of this would be:\n",
    "\n",
    "```sql\n",
    "SELECT 'I am output' as Info;\n",
    "```\n",
    "Which would return something like so:\n",
    "\n",
    "|Info|\n",
    "|:----|\n",
    "|I am ouput|"
   ]
  },
  {
   "cell_type": "markdown",
   "id": "036667d0-f5ed-497b-907f-e1340f19073b",
   "metadata": {},
   "source": [
    "Another super useful clause in a SQL query is the `WHERE` clause. It basically enables you to give a condition for when a given row will be displayed in your output. A `SELECT` will...select all rows when left as is. A `WHERE` clause filters the results based upon the `WHERE`. It looks something like this:\n",
    "\n",
    "```sql\n",
    "SELECT column1, column2\n",
    "FROM table_name\n",
    "WHERE column_name = 'value';\n",
    "```\n",
    "Or, for a real example:\n",
    "```sql\n",
    "SELECT *\n",
    "FROM fruits\n",
    "WHERE name = 'dragonfruit';\n",
    "```\n",
    "This will return every row where the fruit name is dragonfruit. Also, you can query for a specific entry if use the primary key, like so:\n",
    "```sql\n",
    "SELECT *\n",
    "FROM fruits\n",
    "WHERE id = 5;\n",
    "```\n",
    "This will return all information for the row where the id is 5."
   ]
  },
  {
   "cell_type": "markdown",
   "id": "33f78f9d-dc75-450e-b2bd-13210ea7b4c8",
   "metadata": {},
   "source": [
    "Yet another useful and important thing to know about would be Operators. There are a handful of operators within MySQL:\n",
    "\n",
    "|Operator| Description|\n",
    "|:-------|:-----------|\n",
    "|`=`|Equal to|\n",
    "|`!=` or `<>`|Not Equal|\n",
    "|`<`|Less than|\n",
    "|`>`|Greater than|\n",
    "|`<=`|Less than or equal to|\n",
    "|`>=`|Greater than or equal to|\n",
    "|`BETWEEN` value1 `AND` value2| Greater than or equal to value1 and less than or equal to value2|\n",
    "\n",
    "To put this into practice with the above example, it would look something like so:\n",
    "\n",
    "```sql\n",
    "SELECT id, name AS low_quantity_fruit, quantity AS inventory\n",
    "FROM fruits\n",
    "WHERE quantity < 4;\n",
    "```\n",
    "This would return something like:\n",
    "|id|low_quantity_fruit|inventory|\n",
    "|:----|:----|:----|\n",
    "|1|apple|3|\n",
    "|4|dragonfruit|1|\n",
    "|5|grapes|2|\n",
    "\n",
    "And now, to add another layer to the `WHERE` clause. You can chain various other clauses to it to produce more specific results. There are:\n",
    "\n",
    "- `BETWEEN`\n",
    "\n",
    "- `LIKE` / `NOT LIKE`\n",
    "\n",
    "- `IN`\n",
    "\n",
    "- `NULL` / `NOT NULL`\n",
    "\n",
    "These are all pretty self explanatory, but there are some examples of the basic syntax.\n",
    "\n",
    "```sql\n",
    "SELECT emp_no, first_name, last_name\n",
    "FROM employees\n",
    "WHERE emp_no BETWEEN 10000 AND 10100;\n",
    "```\n",
    "As you would think, `BETWEEN` lets you filter out all of the rows not between the two numbers used above.\n",
    "```sql\n",
    "SELECT first_name\n",
    "FROM emplyoees\n",
    "WHERE first_name LIKE '%sus%';\n",
    "```\n",
    "You use `LIKE` to find similarities. `%` are known as wildcards, so in the above example it will return any employee names that contain the letter combination 'sus'. `DISTINCT` can also be used here, in combination with `NOT LIKE` to get non repeating names that don't contain the letter combination 'sus':\n",
    "```sql\n",
    "SELECT first_name\n",
    "FROM employees\n",
    "WHERE first name NOT LIKE '%sus%';\n",
    "```\n",
    "The output for this will, instead of being all of the names with 'sus' somewhere, will be only the distinct names without the 'sus' pattern."
   ]
  },
  {
   "cell_type": "markdown",
   "id": "763e03cf-eea0-47d9-8aa4-8bcc1e7de5eb",
   "metadata": {},
   "source": [
    "You can also use `IN` when looking for very specific results. It could look something like:\n",
    "\n",
    "```sql\n",
    "SELECT emp_no, first_name, last_name\n",
    "FROM employees\n",
    "WHERE last_name IN ('Brown', 'Bean', 'Chi');\n",
    "```\n",
    "This will return only the employee information  where the last names match the `IN` clause."
   ]
  },
  {
   "cell_type": "markdown",
   "id": "793e7945-2170-4a8b-bbd8-783b9b694a01",
   "metadata": {},
   "source": [
    "`NULL` and `NOT NULL` are also relatively simple. It can simply be used to filter out things that are either null or not null, like:\n",
    "\n",
    "```sql\n",
    "SELECT *\n",
    "FROM employees\n",
    "WHERE to_date IS NOT NULL;\n",
    "```"
   ]
  },
  {
   "cell_type": "markdown",
   "id": "f6e62781-29d6-4bf8-b08f-3eb6999b1c72",
   "metadata": {},
   "source": [
    "It's also possible to chain more than one `WHERE` clause together. In this usecase, you'd use `AND` or `OR` keywords like so:\n",
    "\n",
    "```sql\n",
    "SELECT emp_no, first_name, last_name\n",
    "FROM employees\n",
    "WHERE last_name IN ('Brown', 'Bean') AND emp_no < 20000;\n",
    "```\n",
    "Or it's possible to force a group evaluation by using ():\n",
    "```sql\n",
    "SELECT emp_no, first_name, last_name\n",
    "FROM employees\n",
    "WHERE emp_no < 20000 \n",
    "    AND (last_name IN ('Brown', 'Bean') \n",
    "         OR first_name = 'Shawn'\n",
    "         );\n",
    "```"
   ]
  },
  {
   "cell_type": "markdown",
   "id": "f36a92a5-8d4b-4de4-ba07-6554326202c3",
   "metadata": {},
   "source": [
    "`ORDER BY` clauses can also be quite useful, and are pretty straightforward. They are also possible to chain together like the `WHERE` clause. A simple query would be something like:\n",
    "```sql\n",
    "SELECT column\n",
    "FROM table_name\n",
    "ORDER BY column_name ASC; \n",
    "```\n",
    "OR\n",
    "```sql\n",
    "SELECT column\n",
    "FROM table_name\n",
    "ORDER BY column_name DESC;\n",
    "```\n",
    "The sort can be ordered by ascending or descending. Ascending is the default, and not necessary to specify, but I like to specify simply because it keeps it consistent when reading through. To chain `WHERE` clauses, you can simply separate them by a comma, like so:\n",
    "```sql\n",
    "SELECT *\n",
    "FROM table_name\n",
    "ORDER BY column_1 DESC, column 2 ASC;\n",
    "```"
   ]
  },
  {
   "cell_type": "markdown",
   "id": "63befea3-77b8-4509-8a38-19a33fe04949",
   "metadata": {},
   "source": [
    "`LIMIT` clauses are likewise pretty simple. What they will do is limit the output of your query based upon the specified number, like so:\n",
    "```sql\n",
    "SELECT *\n",
    "FROM table_name\n",
    "LIMIT 100;\n",
    "```\n",
    "This will return the first 100 results of the query. Also you can give it an `OFFSET` count. What `OFFSET` will do is tell MySQL which row to start with. So for this:\n",
    "```sql\n",
    "SELECT *\n",
    "FROM table_name\n",
    "LIMIT 25 OFFSET 25;\n",
    "```\n",
    "This will get the first 25 entries **after** the first 25 entries. It is often used for the pagination of data (creating pages of data), most likely to be exported and used in some other way."
   ]
  }
 ],
 "metadata": {
  "kernelspec": {
   "display_name": "Python 3 (ipykernel)",
   "language": "python",
   "name": "python3"
  },
  "language_info": {
   "codemirror_mode": {
    "name": "ipython",
    "version": 3
   },
   "file_extension": ".py",
   "mimetype": "text/x-python",
   "name": "python",
   "nbconvert_exporter": "python",
   "pygments_lexer": "ipython3",
   "version": "3.10.9"
  }
 },
 "nbformat": 4,
 "nbformat_minor": 5
}
