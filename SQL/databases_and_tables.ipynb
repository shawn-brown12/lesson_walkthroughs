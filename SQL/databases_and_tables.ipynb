{
 "cells": [
  {
   "cell_type": "markdown",
   "id": "e199f25a-02f0-4265-9a6c-fdd91dc30b18",
   "metadata": {},
   "source": [
    "## This workbook is for my notes on the absolute basics of MySQL, databases and tables\n",
    "\n",
    "Review goals:\n",
    "\n",
    "- Fully understand basic vocabulary\n",
    "\n",
    "- Know the syntax to show, create, and describe tables\n",
    "\n",
    "- Lay out the most used data types in SQL\n",
    "\n",
    "- Go over primary keys"
   ]
  },
  {
   "cell_type": "markdown",
   "id": "119891df-14fb-4219-bb5c-7142f3f25a31",
   "metadata": {},
   "source": [
    "Some vocabulary to start:\n",
    "\n",
    "- RDBMS: Relational Database Management System; the software that manages the data and runs the server (handles storage and retrieval)\n",
    "\n",
    "- Database: The actual location of the data stored on a disk; won't be interacted with directly, it will be via the DBMS\n",
    "\n",
    "- Database Client: A program that is used to connect to a database. They are many and varied.\n",
    "\n",
    "- Database Server: A computer that runs the DMBS and stores the data, usually on-site or through a cloud serivce\n",
    "\n",
    "- DDL: Data definition language; the actual commands that change the structure of the database or DMBS itself, or changes the structures of the tables within the database\n",
    "\n",
    "- DML: Data manipulation language; used to insert, update, delete, and retrieve information from databases"
   ]
  },
  {
   "cell_type": "markdown",
   "id": "706a530d-d96a-48d6-a03f-fdea6891cf26",
   "metadata": {},
   "source": [
    "There is some confusion between the words 'Database'  and 'Schema', especially when reading the documentation. Other RDBMS's use schemas as a second level of organization *within* a database and as separate databases from each other to the user's perspective. Within MySQL, the words are used interchangably.\n",
    "\n",
    "There are reserved words within MySQL, like `SELECT`, `CREATE`, and `INSERT`. Reserved words can't be used within a query to refer to things like a table name, a column name, or a database itself. This is because they have a specific defined use within the language. [Click here](https://dev.mysql.com/doc/refman/8.0/en/keywords.html) for full list of reserved words. Although it's simply a bad idea to use reserved words as a name for anything in SQL, so as to avoid confusion, there is a workaround. You simply need to enclose the name of whatever it is you're calling within backticks. \n",
    "\n",
    "Another important thing to note would be the idea of data types. MySQL has a variety of data types, but the most common numeric types here are:\n",
    "\n",
    "- `INT`: An integer, or any number *without* a decimal point.\n",
    "    \n",
    "- `FLOAT`:  A number *with* decimal points.\n",
    "    \n",
    "- `DECIMAL`: A *precise* decimal number. A decimal column must have a defined length and a precision; a length being the total number of digits stored for any given value, and a precision being the number of digits after the decimal place. something like `DECIMAL(3, 1)` would be a double digit number with a single digit after the decimal, like 11.1, or 99.7.\n",
    "    \n",
    "- `UNSIGNED`: When declaring numeric columns, you can specify that the values are `UNSIGNED`. This will allow you to potentiall store larger numbers in a column, but they can only be positive values. For example, a normal `INT` column can store a number between `-2,147,483,648` to `2,147,483,648`, but an `INT UNSIGNED` column can store from `0` to `4,294,967,295`.\n",
    "    \n",
    "- `Boolean`: MySQL doesn't have support for boolean values, and instead uses `TINYINT`, which goes from `-128` to `127`, and treats `0` as `false` and `1` as `true`.\n",
    "    \n",
    "Another section of data types would be the string data type. Strings are generally signified by single quotes (`'`). In MySQL, there are several different data types when it comes to strings:\n",
    "\n",
    "- `CHAR(length)`: A string with a fixed number of characters (hence the length), where length can be from 1 to 255. If a string shorter than the specified length is stored within the column then the value is padded with empty space to fill it up to the length. It will give an error if you try to store a string longer than the length. \n",
    "    \n",
    "- `VARCHAR(length)`: For strings where the length could vary up to a maximum length. Goes up to 65,535, but if you need to go beyond 255, `TEXT` is recommended. \n",
    "    \n",
    "- `TEXT`: A large block of characters that can be any length. It could seem tempting to just use `TEXT` whenever dealing with strings, but there are major technical limitations to using it and can cause performance issues if overused. Use it for very large blocks of text, like an article, or the pages of a book.\n",
    "    \n",
    "A third set of data types within MySQL are Date/time data types, the most common of which are:\n",
    "\n",
    "- `DATE`: A date value without a timestamp, usually displayed as `YYYY-MM-DD`.\n",
    "\n",
    "- `TIME`: A time down to the second, using a 24 hour clock.\n",
    "\n",
    "- `DATETIME`: A combined date and time value, displayed as `YYYY-MM-DD HH:MM:SS`\n",
    "\n",
    "And last, but not least, `NULL` values. In most languages, `NULL` behaves like a 0, however in MySQL, it is better thought of as the absence of a value, which is intersting. Since `NULL` values are complex, and because they sometimes lead to inconsistent data, columns can be specified that their values are `NOT NULL`. This will prevent `NULL` from being stored in that particular column."
   ]
  },
  {
   "cell_type": "markdown",
   "id": "9337df58-3e37-4635-b0cc-ee1625f1956a",
   "metadata": {},
   "source": [
    "## Basic navigation using a MySQL GUI:"
   ]
  },
  {
   "cell_type": "markdown",
   "id": "d1a47d1d-dd1d-4a73-a830-c7be0f07a9ef",
   "metadata": {},
   "source": [
    "```sql\n",
    "SHOW DATABASES;\n",
    "```\n",
    "\n",
    "This will give a basic table of the different databases within the server that are accessible for the current user"
   ]
  },
  {
   "cell_type": "markdown",
   "id": "7d3fd24d-a3f5-4d32-845a-01f0205eb3f7",
   "metadata": {},
   "source": [
    "```sql\n",
    "SELECT database();\n",
    "```\n",
    "This will select a specific database from within the server for use"
   ]
  },
  {
   "cell_type": "markdown",
   "id": "5fa72815-0555-48a8-9a36-adb299107811",
   "metadata": {},
   "source": [
    "```sql\n",
    "SHOW CREATE DATABASE database_name;\n",
    "```\n",
    "This will show the exact SQL command that was used to create the database. Good for if you want to recreate a database elsewhere for duplication"
   ]
  },
  {
   "cell_type": "markdown",
   "id": "3ea25930-7cb5-4c3f-ab5d-b89600feae3f",
   "metadata": {},
   "source": [
    "```sql\n",
    "SHOW TABLES;\n",
    "```\n",
    "This command will show the tables within a database"
   ]
  },
  {
   "cell_type": "markdown",
   "id": "2910817b-28e8-4d6a-876c-42d485462840",
   "metadata": {},
   "source": [
    "Sometimes, you might n eed to refer to another table or object within anoher database within the server. The syntax for that is simply `database_name.table_name`. \n",
    "A simple example might be:\n",
    "```sql\n",
    "SELECT *\n",
    "FROM other_database.table2\n",
    "```"
   ]
  },
  {
   "cell_type": "markdown",
   "id": "6594b764-be18-4132-8674-97f479d8ba34",
   "metadata": {},
   "source": [
    "## Creating a simple table"
   ]
  },
  {
   "cell_type": "markdown",
   "id": "2ce248b2-cd56-435c-b6c2-aebf836857a0",
   "metadata": {},
   "source": [
    "```sql\n",
    "CREATE TABLE table_name(column1_name, data_type,\n",
    "                        column2_name, data_type\n",
    "                        ...\n",
    "                        );\n",
    "```\n",
    "\n",
    "A basic statement to create a table. A more realistic example could be:\n",
    "\n",
    "```sql\n",
    "CREATE TABLE quotes(author_first_name VARCHAR(50),\n",
    "                    author_last_name VARCHAR(100) NOT NULL,\n",
    "                    content TEXT NOT NULL\n",
    "                    );\n",
    "```\n",
    "\n",
    "This example is not quite complete, because we need a primary key for our table. A primary key is a special column type with several important rules:\n",
    "\n",
    "- Each value is unique\n",
    "\n",
    "- They cannot be null\n",
    "\n",
    "- There can only be one primary key in the table\n",
    "\n",
    "So a more complete example query for this would be:\n",
    "\n",
    "```sql\n",
    "CREATE TABLE quotes(id INT UNSIGNED NOT NULL AUTO_INCREMENT,\n",
    "                    author_first_name VARCHAR(50),\n",
    "                    author_last_name VARCHAR(100) NOT NULL,\n",
    "                    content TEXT NOT NULL,\n",
    "                    PRIMARY KEY (id)\n",
    "                    (;\n",
    "```\n",
    "\n",
    "In this case, the id column is just like the others, however we've added some additional constraints to it. It's an `UNSIGNED` column, because it can't be negative and will therefore start at 1. `AUTO_INCREMENT` instructs MySQL to generate new values for this column we we insert new records into the table (counting up from 1) Only one column per table can have `AUTO_INCREMENT`, and it must be the `PRIMARY KEY`. "
   ]
  }
 ],
 "metadata": {
  "kernelspec": {
   "display_name": "Python 3 (ipykernel)",
   "language": "python",
   "name": "python3"
  },
  "language_info": {
   "codemirror_mode": {
    "name": "ipython",
    "version": 3
   },
   "file_extension": ".py",
   "mimetype": "text/x-python",
   "name": "python",
   "nbconvert_exporter": "python",
   "pygments_lexer": "ipython3",
   "version": "3.10.9"
  }
 },
 "nbformat": 4,
 "nbformat_minor": 5
}
