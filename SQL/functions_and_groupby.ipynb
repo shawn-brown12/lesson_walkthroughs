{
 "cells": [
  {
   "cell_type": "code",
   "execution_count": null,
   "id": "6c50ef6a-f39a-44d3-a563-47b57cc588de",
   "metadata": {},
   "outputs": [],
   "source": []
  }
 ],
 "metadata": {
  "kernelspec": {
   "display_name": "Python 3 (ipykernel)",
   "language": "python",
   "name": "python3"
  },
  "language_info": {
   "codemirror_mode": {
    "name": "ipython",
    "version": 3
   },
   "file_extension": ".py",
   "mimetype": "text/x-python",
   "name": "python",
   "nbconvert_exporter": "python",
   "pygments_lexer": "ipython3",
   "version": "3.10.9"
  }
 },
 "nbformat": 4,
 "nbformat_minor": 5
}
