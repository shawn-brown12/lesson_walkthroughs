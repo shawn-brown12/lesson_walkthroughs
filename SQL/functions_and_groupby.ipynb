{
 "cells": [
  {
   "cell_type": "markdown",
   "id": "22ad48a3-7b5e-49de-a49b-ef852f64dafe",
   "metadata": {},
   "source": [
    "## This notebook is for my notes on the basics of functions and the `GROUP BY` clause in MySQL"
   ]
  },
  {
   "cell_type": "code",
   "execution_count": null,
   "id": "1d2c97ef-8f69-4949-9806-c3b7429d920b",
   "metadata": {},
   "outputs": [],
   "source": []
  }
 ],
 "metadata": {
  "kernelspec": {
   "display_name": "Python 3 (ipykernel)",
   "language": "python",
   "name": "python3"
  },
  "language_info": {
   "codemirror_mode": {
    "name": "ipython",
    "version": 3
   },
   "file_extension": ".py",
   "mimetype": "text/x-python",
   "name": "python",
   "nbconvert_exporter": "python",
   "pygments_lexer": "ipython3",
   "version": "3.10.9"
  }
 },
 "nbformat": 4,
 "nbformat_minor": 5
}
