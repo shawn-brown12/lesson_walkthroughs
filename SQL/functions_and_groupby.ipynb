{
 "cells": [
  {
   "cell_type": "markdown",
   "id": "10fecfb6-c372-45ad-aaff-fb907941083a",
   "metadata": {},
   "source": [
    "## This notebook is for my notes on the basics of functions and the `GROUP BY` clause in MySQL\n",
    "\n",
    "Review Goals:\n",
    "\n",
    "- Understand the basics of functions within MySQL\n",
    "\n",
    "- Learn how to use the following numerical functions:\n",
    "\n",
    "    - `AVG`\n",
    "    \n",
    "    - `MIN` \n",
    "    \n",
    "    - `MAX`\n",
    "    \n",
    "- Learn the following String functions:\n",
    "\n",
    "    - `CONCAT()`\n",
    "    \n",
    "    - `SUBSTR`"
   ]
  },
  {
   "cell_type": "markdown",
   "id": "ba22f842-294e-429f-b6af-874fb042b6a1",
   "metadata": {},
   "source": []
  },
  {
   "cell_type": "code",
   "execution_count": null,
   "id": "1d2c97ef-8f69-4949-9806-c3b7429d920b",
   "metadata": {},
   "outputs": [],
   "source": []
  }
 ],
 "metadata": {
  "kernelspec": {
   "display_name": "Python 3 (ipykernel)",
   "language": "python",
   "name": "python3"
  },
  "language_info": {
   "codemirror_mode": {
    "name": "ipython",
    "version": 3
   },
   "file_extension": ".py",
   "mimetype": "text/x-python",
   "name": "python",
   "nbconvert_exporter": "python",
   "pygments_lexer": "ipython3",
   "version": "3.10.9"
  }
 },
 "nbformat": 4,
 "nbformat_minor": 5
}
