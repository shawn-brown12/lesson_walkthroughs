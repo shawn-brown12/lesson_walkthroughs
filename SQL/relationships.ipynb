{
 "cells": [
  {
   "cell_type": "markdown",
   "id": "d9c4f094-f2fb-4e10-95a2-e0284e419731",
   "metadata": {},
   "source": [
    "## This notebook is for my notes on my understanding of how relationships work in MySQL"
   ]
  },
  {
   "cell_type": "markdown",
   "id": "711721c7-7668-4886-8638-c9ce4c3fb3e0",
   "metadata": {},
   "source": [
    "Here is where things step up another level in complexity. In the relationships section, we're going to go over:\n",
    "\n",
    "- Indexes, or Indices\n",
    "\n",
    "    - Primary Keys\n",
    "    - Unique\n",
    "    - Foreign Keys\n",
    "    - Multiple Column Indexes    \n",
    "---    \n",
    "- Join statements\n",
    "\n",
    "    - Relationship Types\n",
    "    - Types of Joins\n",
    "    - Join syntax\n",
    "---    \n",
    "- Subqueries\n",
    "\n",
    "    - Scalar subqueries\n",
    "    - Column subqueries\n",
    "    - Row subqueries\n",
    "    - Table subqueries\n",
    "\n",
    "\n"
   ]
  },
  {
   "cell_type": "markdown",
   "id": "33acdc7a-088e-4ce7-a55b-79cac1e978b3",
   "metadata": {},
   "source": []
  }
 ],
 "metadata": {
  "kernelspec": {
   "display_name": "Python 3 (ipykernel)",
   "language": "python",
   "name": "python3"
  },
  "language_info": {
   "codemirror_mode": {
    "name": "ipython",
    "version": 3
   },
   "file_extension": ".py",
   "mimetype": "text/x-python",
   "name": "python",
   "nbconvert_exporter": "python",
   "pygments_lexer": "ipython3",
   "version": "3.10.9"
  }
 },
 "nbformat": 4,
 "nbformat_minor": 5
}
