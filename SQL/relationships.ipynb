{
 "cells": [
  {
   "cell_type": "markdown",
   "id": "d9c4f094-f2fb-4e10-95a2-e0284e419731",
   "metadata": {},
   "source": [
    "## This notebook is for my notes on my understanding of how relationships work in MySQL (Indices, Joins, Subqueries)"
   ]
  },
  {
   "cell_type": "code",
   "execution_count": null,
   "id": "b3f41096-dfff-47ab-b2f1-794bbbb2f3d6",
   "metadata": {},
   "outputs": [],
   "source": []
  }
 ],
 "metadata": {
  "kernelspec": {
   "display_name": "Python 3 (ipykernel)",
   "language": "python",
   "name": "python3"
  },
  "language_info": {
   "codemirror_mode": {
    "name": "ipython",
    "version": 3
   },
   "file_extension": ".py",
   "mimetype": "text/x-python",
   "name": "python",
   "nbconvert_exporter": "python",
   "pygments_lexer": "ipython3",
   "version": "3.10.9"
  }
 },
 "nbformat": 4,
 "nbformat_minor": 5
}
