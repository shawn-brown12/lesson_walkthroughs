{
 "cells": [
  {
   "cell_type": "markdown",
   "id": "d9c4f094-f2fb-4e10-95a2-e0284e419731",
   "metadata": {},
   "source": [
    "## This notebook is for my notes on my understanding of how relationships work in MySQL"
   ]
  },
  {
   "cell_type": "markdown",
   "id": "711721c7-7668-4886-8638-c9ce4c3fb3e0",
   "metadata": {},
   "source": [
    "Here is where things step up another level in complexity. In the relationships section, we're going to go over:\n",
    "\n",
    "- Indexes, or Indices\n",
    "\n",
    "    - Primary Keys\n",
    "    - Unique\n",
    "    - Foreign Keys\n",
    "    - Multiple Column Indexes    \n",
    "---    \n",
    "- Join statements\n",
    "\n",
    "    - Relationship Types\n",
    "    - Types of Joins\n",
    "    - Join syntax\n",
    "---    \n",
    "- Subqueries\n",
    "\n",
    "    - Scalar subqueries\n",
    "    - Column subqueries\n",
    "    - Row subqueries\n",
    "    - Table subqueries\n",
    "\n",
    "\n"
   ]
  },
  {
   "cell_type": "markdown",
   "id": "33acdc7a-088e-4ce7-a55b-79cac1e978b3",
   "metadata": {},
   "source": [
    "Indexes are used in basically every table in SQL (Or at least they should be) Normally, the index is the primary key of a table, which is a unique identifier for each individual row, very much like the row number in an spreadsheet. It basically gives us a very easy way to reference any row needed, as well as make sure there aren't any duplicates. Another thing to note is that the column set as the primary key in a table **cannot** be a null value. \n",
    "\n",
    "An example of a basic table created with the primary key would look something like:\n",
    "\n",
    "```sql\n",
    "CREATE TABLE quotes (id INT NOT NULL AUTO_INCREMENT,\n",
    "                     author VARCHAR(50) NOT NULL,\n",
    "                     content VARCHAR(240) NOT NULL,\n",
    "                     PRIMARY KEY (id)\n",
    "                     );\n",
    "```\n",
    "The table has a column named `id` that will increment automatically, starting with 1. Because it's set as the primary key, it will never duplicate and performing queries using that column will be quite fast."
   ]
  },
  {
   "cell_type": "markdown",
   "id": "f6de1e0f-5eb0-497d-b38e-b2b27fb2c971",
   "metadata": {},
   "source": [
    "The primary focus of indexes is optimization, though we can also use them to ensure uniqueness and to create relationships. `UNIQUE` works very similarly to primary keys, but unique indexes are not limited to one per table. If we need to add some type of constraint to a column to make sure there aren't duplicates, like, say, usernames or email addresses in a database, we can add the `UNIQUE` constraint to the column. \n",
    "\n",
    "We can do that when creating the table like so:\n",
    "```sql\n",
    "CREATE TABLE quotes (id INT NOT NULL AUTO_INCREMENT,\n",
    "                     author VARCHAR(50) NOT NULL,\n",
    "                     content VARCHAR(240) NOT NULL,\n",
    "                     PRIMARY KEY (id)\n",
    "                     ADD UNIQUE(content)\n",
    "                     );\n",
    "```\n",
    "\n",
    "OR we can alter a table like so:\n",
    "```sql\n",
    "ALTER TABLE quotes\n",
    "ADD UNIQUE (content);\n",
    "```\n",
    "\n",
    "Using `DESCRIBE` to, well, describe the table would result in something like so:\n",
    "```sql\n",
    "DESCRIBE quotes;\n",
    "+---------+--------------+------+-----+---------+----------------+\n",
    "| Field   | Type         | Null | Key | Default | Extra          |\n",
    "+---------+--------------+------+-----+---------+----------------+\n",
    "| id      | int(11)      | NO   | PRI | NULL    | auto_increment |\n",
    "| content | varchar(240) | NO   | UNI | NULL    |                |\n",
    "| author  | varchar(50)  | NO   |     | NULL    |                |\n",
    "+---------+--------------+------+-----+---------+----------------+\n",
    "3 rows in set (0.00 sec)\n",
    "```"
   ]
  },
  {
   "cell_type": "markdown",
   "id": "640828a3-c69f-4949-8cf4-709ead47e169",
   "metadata": {},
   "source": [
    "Foreign keys are used to relate to tables used in join functions. A foreign key is basically a column in a table, that is the primary key of another table. Going by the above example, if we had another table that listed author names as well as book titles, the author name would be considered a foreign key, which could then be used in a join to temporarily (for the purpose of a query) combine the two tables together in some way, to use the data from each. Going with that example somewhat, using what we already have, we could create another table from the existing one with just the id column and the author name. \n",
    "\n",
    "It would look something like this:\n",
    "```sql\n",
    "CREATE TABLE authors (id INT NOT NULL AUTO_INCREMENT,\n",
    "                      first_name VARCHAR(100) NOT NULL,\n",
    "                      last_name VARCHAR(100) NOT NULL,\n",
    "                      PRIMARY KEY (id),\n",
    "                      UNIQUE (first_name, last_name);\n",
    "```\n",
    "This will create the table `authors` and the `UNIQUE` constraint is on the combined values of `first_name` and `last_name`."
   ]
  },
  {
   "cell_type": "markdown",
   "id": "2d5e0876-8d64-4839-8041-e66f9e0db821",
   "metadata": {},
   "source": []
  },
  {
   "cell_type": "code",
   "execution_count": null,
   "id": "8599cec5-a6bc-45c6-af61-6efa3cda07df",
   "metadata": {},
   "outputs": [],
   "source": []
  }
 ],
 "metadata": {
  "kernelspec": {
   "display_name": "Python 3 (ipykernel)",
   "language": "python",
   "name": "python3"
  },
  "language_info": {
   "codemirror_mode": {
    "name": "ipython",
    "version": 3
   },
   "file_extension": ".py",
   "mimetype": "text/x-python",
   "name": "python",
   "nbconvert_exporter": "python",
   "pygments_lexer": "ipython3",
   "version": "3.10.9"
  }
 },
 "nbformat": 4,
 "nbformat_minor": 5
}
